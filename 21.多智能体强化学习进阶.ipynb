{
 "cells": [
  {
   "cell_type": "markdown",
   "id": "5f64cc22",
   "metadata": {},
   "source": [
    "# 21. 多智能体强化学习进阶\n",
    "\n",
    "## 21.1 简介\n",
    "- 第 20 章中已经初步介绍了多智能体强化学习研究的问题和最基本的求解范式。本章来介绍一种比较经典且效果不错的进阶范式：**中心化训练去中心化执行**（centralized training with decentralized execution，CTDE）。所谓中心化训练去中心化执行是指在训练的时候使用一些单个智能体看不到的全局信息而以达到更好的训练效果，而在执行时不使用这些信息，每个智能体完全根据自己的策略直接动作以达到去中心化执行的效果。中心化训练去中心化执行的算法能够在训练时有效地利用全局信息以达到更好且更稳定的训练效果，同时在进行策略模型推断时可以仅利用局部信息，使得算法具有一定的扩展性。CTDE 可以类比成一个足球队的训练和比赛过程：在训练时，11 个球员可以直接获得教练的指导从而完成球队的整体配合，而教练本身掌握着比赛全局信息，教练的指导也是从整支队、整场比赛的角度进行的；而训练好的 11 个球员在上场比赛时，则根据场上的实时情况直接做出决策，不再有教练的指导。\n",
    "\n",
    "- CTDE 算法主要分为两种：一种是基于值函数的方法，例如 VDN，QMIX 算法等；另一种是基于 Actor-Critic 的方法，例如 MADDPG 和 COMA 等。本章将重点介绍 MADDPG 算法。\n",
    "\n",
    "## 21.2 MADDPG 算法\n",
    "- 多智能体 DDPG（muli-agent DDPG，MADDPG）算法从字面意思上来看就是对于每个智能体实现一个 DDPG 的算法。所有智能体共享一个中心化的 Critic 网络，该 Critic 网络在训练的过程中同时对每个智能体的 Actor 网络给出指导，而执行时每个智能体的 Actor 网络则是完全独立做出行动，即去中心化地执行。\n",
    "\n",
    "- CTDE 算法的应用场景通常可以被建模为一个**部分可观测马尔可夫博弈**（partially observable Markov games）：用 $\\mathcal{S}$ 代表 $N$ 个智能体所有可能的状态空间，这是全局的信息。对于每个智能体 $i$，其动作空间为 $\\mathcal{A}_i$，观测空间 $\\mathcal{O}_i$，每个智能体的策略 $\\pi_{\\theta_{i}}:\\mathcal{O}_{i}\\times\\mathcal{A}_{i}\\to[0,1]$ 是一个概率分布，用来表示智能体在每个观测下采取各个动作的概率。环境的状态转移函数为：$\\mathcal{T}:\\mathcal{S}\\times\\mathcal{A}_{1}\\times\\cdots\\times\\mathcal{A}_{N}\\to\\Omega(\\mathcal{S})$。每个智能体的奖励函数为 $r_{i}:\\mathcal{S}\\times\\mathcal{A}\\to\\mathbb{R}$，每个智能体从全局状态得到的部分观测信息为 $\\mathbf{o}_{i}:\\mathcal{S}\\to\\mathcal{O}_{i}$，初始状态分布为 $\\rho:\\mathcal{S} \\to [0,1]$。每个智能体的目标是最大化其期望累计奖励 $\\mathbb{E}[\\sum_{t = 0}^T \\gamma^tr_i^t]$。\n",
    "\n",
    "- 接下来我们看一下 MADDPG 算法的主要细节吧！如图 21-1 所示，每个智能体用 Actor-Critic 的方法训练，但不同于传统单智能体的情况，在 MADDPG 中每个智能体的 Critic 部分都能够获得其他智能体的策略信息。具体来说，考虑一个有 $N$ 个智能体的博弈，每个智能体的策略参数为 $\\theta = \\{ \\theta_1, \\dots, \\theta_N\\}$，记 $\\pi = \\{\\pi_1, \\dots, \\pi_N\\}$ 为所有智能体的策略集合，那么我们可以写出在随机性策略情况下每个智能体的期望收益的策略梯度：\n",
    "\n",
    "$$\n",
    "\\nabla_{\\theta,}J(\\theta_i)=\\mathbb{E}_{s\\sim p^\\mu,a\\sim\\pi_i}[\\nabla_{\\theta_i}\\log\\pi_i(a_i|o_i)Q_i^\\pi(\\mathbf{x},a_1,\\ldots,a_N)]\n",
    "$$\n",
    "\n",
    "- 其中，$Q_i^{\\pi}(\\mathbf{x}, a_1, \\dots, a_N)$ 就是一个中心化的动作价值函数。为什么说 $Q_i$ 是一个中心化的动作价值函数呢？一般来说 $\\mathbf{x} = (o_1,\\dots, o_N)$ 包含了所有智能体的观测，另外 $Q_i$ 也需要输入所有智能体在此刻的动作，因此 $Q_i$ 工作的前提就是所有智能体要同时给出自己的观测和相应的动作。 \n",
    "\n",
    "<div align=\"center\" style=\"text-align: center;\">\n",
    "    <img src=\"./image/21-1.png\" style=\"width: 40%;\">\n",
    "    <center>图 21-1 MADDPG 算法总览图</center>\n",
    "</div> \n",
    "\n",
    "- 对于确定性策略来说，考虑现在有 $N$ 个连续的策略 $\\mu_{\\theta_i}$，可以得到 DDPG 的梯度公式：\n",
    "\n",
    "$$\n",
    "\\nabla_{\\theta_i}J(\\mu_i)=\\mathbb{E}_{\\mathbf{x}\\sim\\mathcal{D}}[\\nabla_{\\theta_i}\\mu_i(o_i)\\nabla_{a_i}Q_i^\\mu(\\mathbf{x},a_1,\\ldots,a_N)|_{a_i=\\mu_i(o_i)}]\n",
    "$$\n",
    "\n",
    "- 其中，$\\mathcal{D}$ 是我们用来存储数据的经验放回池，它存储的每一个数据为 $(\\mathbf{x},\\mathbf{x}',a_1, \\dots, a_N, r_1, \\dots, r_N)$。而在 MADDPG 中，中心化动作价值函数可以按照下面的损失函数来更新：\n",
    "\n",
    "$$\n",
    "\\mathcal{L}(\\omega_i)=\\mathbb{E}_{\\mathbf{x},a,r,\\mathbf{x}^{\\prime}}[(Q_i^\\mu(\\mathbf{x},a_1,\\ldots,a_N)-y)^2],y=r_i+\\gamma Q_i^{\\mu^{\\prime}}(\\mathbf{x}^{\\prime},a_1^{\\prime},\\ldots,a_N^{\\prime})|_{a_j^{\\prime}=\\mu_j^{\\prime}(o_j)}\n",
    "$$\n",
    "\n",
    "- 其中，$\\mu' = (\\mu_{\\theta}', ..., \\mu_{\\theta_N}')$ 是更新价值函数中使用的目标策略的集合，他们有着延迟更新的参数。\n",
    "\n",
    "- MADDPG 的具体算法流程如下：\n",
    "    - 随机初始化每个智能体的 Actor 网络和 Critic 网络\n",
    "    - for 序列 $e = 1 \\to E$ do:\n",
    "        - 初始化一个随机过程 $\\,athcal{N}$，用于动作探索；\n",
    "        - 获取所有智能体的初始观测 $\\mathbf{x}$；\n",
    "        - for $t = 1 \\to T$ do:\n",
    "            - 对于每个智能体 $i$，用当前的策略选择一个动作 $a_i = \\mu_{\\theta_i}(o_i) + \\mathcal{N}_t$；\n",
    "            - 执行动作 $a = (a_1, \\dots, a_N)$ 并且获得奖励 $r$ 和新的观测 $\\mathbf{x}'$；\n",
    "            - 把 $(\\mathbf{x},a,r,\\mathbf{x}')$ 存储到经验回放池 $\\mathcal{D}$ 中；\n",
    "            - 从 $\\mathcal{D}$ 中随机采样一些数据；\n",
    "            - 对于每个智能体 $i$，中心化训练 Critic 网络\n",
    "            - 对于每个智能体 $i$，训练自身的 Actor 网络\n",
    "            - 对每个智能体 $i$，更新目标 Actor 网络和目标 Critic 网络\n",
    "        - end for\n",
    "    - end for\n",
    "    \n",
    "## 21.3 MADDPG 代码实践\n",
    "- 下面我们来看看如何实现 MADDPG 算法，首先是导入一些需要用到的包。"
   ]
  },
  {
   "cell_type": "code",
   "execution_count": 1,
   "id": "ee25cf38",
   "metadata": {},
   "outputs": [
    {
     "name": "stderr",
     "output_type": "stream",
     "text": [
      "/home/wxl/anaconda3/envs/rl/lib/python3.7/site-packages/tqdm/auto.py:21: TqdmWarning: IProgress not found. Please update jupyter and ipywidgets. See https://ipywidgets.readthedocs.io/en/stable/user_install.html\n",
      "  from .autonotebook import tqdm as notebook_tqdm\n"
     ]
    }
   ],
   "source": [
    "import torch\n",
    "import torch.nn.functional as F\n",
    "import numpy as np\n",
    "import matplotlib.pyplot as plt\n",
    "import random\n",
    "import rl_utils"
   ]
  },
  {
   "cell_type": "markdown",
   "id": "e050146c",
   "metadata": {},
   "source": [
    "- 我们要使用的环境为多智能体粒子环境（multiagent particles environment，MPE），它是一些面向多智能体交互的环境的集合，在这个环境中，粒子智能体可以移动、通信、“看”到其他智能体，也可以和固定位置的地标交互。\n",
    "\n",
    "- 接下来安装环境，由于 MPE 的官方仓库的代码已经不再维护了，而其依赖于 gym 的旧版本，因此我们需要重新安装 gym 库。"
   ]
  },
  {
   "cell_type": "code",
   "execution_count": 2,
   "id": "2d9f5908",
   "metadata": {},
   "outputs": [
    {
     "name": "stdout",
     "output_type": "stream",
     "text": [
      "fatal: destination path 'multiagent-particle-envs' already exists and is not an empty directory.\n",
      "Obtaining file:///home/wxl/xyb/RL-Study/multiagent-particle-envs\n",
      "  Preparing metadata (setup.py) ... \u001b[?25ldone\n",
      "\u001b[?25hRequirement already satisfied: gym in /home/wxl/anaconda3/envs/rl/lib/python3.7/site-packages (from multiagent==0.0.1) (0.10.5)\n",
      "Requirement already satisfied: numpy-stl in /home/wxl/anaconda3/envs/rl/lib/python3.7/site-packages (from multiagent==0.0.1) (3.1.2)\n",
      "Requirement already satisfied: numpy>=1.10.4 in /home/wxl/anaconda3/envs/rl/lib/python3.7/site-packages (from gym->multiagent==0.0.1) (1.21.6)\n",
      "Requirement already satisfied: requests>=2.0 in /home/wxl/anaconda3/envs/rl/lib/python3.7/site-packages (from gym->multiagent==0.0.1) (2.31.0)\n",
      "Requirement already satisfied: six in /home/wxl/anaconda3/envs/rl/lib/python3.7/site-packages (from gym->multiagent==0.0.1) (1.16.0)\n",
      "Requirement already satisfied: pyglet>=1.2.0 in /home/wxl/anaconda3/envs/rl/lib/python3.7/site-packages (from gym->multiagent==0.0.1) (1.5.0)\n",
      "Requirement already satisfied: python-utils>=3.4.5 in /home/wxl/anaconda3/envs/rl/lib/python3.7/site-packages (from numpy-stl->multiagent==0.0.1) (3.5.2)\n",
      "Requirement already satisfied: future in /home/wxl/anaconda3/envs/rl/lib/python3.7/site-packages (from pyglet>=1.2.0->gym->multiagent==0.0.1) (1.0.0)\n",
      "Requirement already satisfied: typing-extensions in /home/wxl/anaconda3/envs/rl/lib/python3.7/site-packages (from python-utils>=3.4.5->numpy-stl->multiagent==0.0.1) (4.7.1)\n",
      "Requirement already satisfied: charset-normalizer<4,>=2 in /home/wxl/anaconda3/envs/rl/lib/python3.7/site-packages (from requests>=2.0->gym->multiagent==0.0.1) (3.4.1)\n",
      "Requirement already satisfied: idna<4,>=2.5 in /home/wxl/anaconda3/envs/rl/lib/python3.7/site-packages (from requests>=2.0->gym->multiagent==0.0.1) (3.10)\n",
      "Requirement already satisfied: urllib3<3,>=1.21.1 in /home/wxl/anaconda3/envs/rl/lib/python3.7/site-packages (from requests>=2.0->gym->multiagent==0.0.1) (2.0.7)\n",
      "Requirement already satisfied: certifi>=2017.4.17 in /home/wxl/anaconda3/envs/rl/lib/python3.7/site-packages (from requests>=2.0->gym->multiagent==0.0.1) (2025.1.31)\n",
      "Installing collected packages: multiagent\n",
      "  Attempting uninstall: multiagent\n",
      "    Found existing installation: multiagent 0.0.1\n",
      "    Uninstalling multiagent-0.0.1:\n",
      "      Successfully uninstalled multiagent-0.0.1\n",
      "  Running setup.py develop for multiagent\n",
      "Successfully installed multiagent-0.0.1\n"
     ]
    }
   ],
   "source": [
    "!git clone https://github.com/boyu-ai/multiagent-particle-envs.git --quiet\n",
    "!pip install -e multiagent-particle-envs\n",
    "import sys\n",
    "sys.path.append(\"multiagent-particle-envs\")\n",
    "# 由于multiagent-pariticle-env底层的实现有一些版本问题,因此gym需要改为可用的版本\n",
    "!pip install --upgrade gym==0.10.5 -q\n",
    "import gym\n",
    "from multiagent.environment import MultiAgentEnv\n",
    "import multiagent.scenarios as scenarios\n",
    "\n",
    "\n",
    "def make_env(scenario_name):\n",
    "    # 从环境文件脚本中创建环境\n",
    "    scenario = scenarios.load(scenario_name + \".py\").Scenario()\n",
    "    world = scenario.make_world()\n",
    "    env = MultiAgentEnv(world, scenario.reset_world, scenario.reward,\n",
    "                        scenario.observation)\n",
    "    return env"
   ]
  },
  {
   "cell_type": "markdown",
   "id": "2301cb17",
   "metadata": {},
   "source": [
    "- 本章选择 MPE 中的 `simple_adversary` 环境作为代码实践的示例，如图 21-2 所示。该环境中有 1 个红色的对抗智能体（adversary）、$N$ 个蓝色的正常智能体，以及 $N$ 个地点（一般 $N = 2$），这 $N$ 个地点中有一个是目标地点（绿色）。这 $N$ 个正常智能体知道哪一个是目标地点，但对抗智能体不知道。正常智能体是合作关系：它们其中任意一个距离目标地点足够近，则每个正常智能体都能获得相同的奖励。对抗智能体如果距离目标地点足够近，也能获得奖励，但它需要猜哪一个才是目标地点。因此，正常智能体需要进行合作，分散到不同的坐标点，以此欺骗对抗智能体。\n",
    "\n",
    "<div align=\"center\" style=\"text-align: center;\">\n",
    "    <img src=\"./image/21-2.gif\" style=\"width: 40%;\">\n",
    "    <center>图 21-2 MPE 中的 simple_adversary 环境</center>\n",
    "</div> \n",
    "\n",
    "- 需要说明的是，MPE 环境中的每个智能体的动作空间是离散的。第 13 章介绍过 DDPG 算法本身需要使智能体的动作对于其策略参数可导，这对连续的动作空间来说是成立的，但是对于离散的动作空间并不成立。但这并不意味着当前的任务不能使用 MADDPG 算法求解，因为我们可以使用一个叫作 Gumbel-Softmax 的方法来得到离散分布的近似采样。下面我们对其原理进行简要的介绍并给出实现代码。\n",
    "\n",
    "- 假设有一个随机变量 $Z$ 服从某个离散分布 $\\mathcal{K}=(a_1, \\dots, a_k)$。其中，$a_i \\in [0,1]$ 表示 $P(Z = i)$ 并且满足 $\\sum_{i = 1}^ka_i = 1$。当我们希望按照这个分布即 $z \\sim \\mathcal{K}$ 进行采样时，可以发现这种离散分布的采样是不可导的。\n",
    "\n",
    "- 那有没有什么办法可以让离散分布的采样可导呢？答案是肯定的！那就是重参数化方法，这一方法在第 14 章的 SAC 算法中已经介绍过，而这里要用的是 Gumbel-Softmax 技巧。具体来说，我们引入一个重参数因子 $g_i$，它是一个采样自 $\\mathrm{Gumbel}(0,1)$ 的噪声：\n",
    "\n",
    "$$\n",
    "g_i=-\\log(-\\log u),u\\sim\\mathrm{Uniform}(0,1)\n",
    "$$\n",
    "\n",
    "- Gumbel-Softmax 采样可以写成\n",
    "\n",
    "$$\n",
    "y_i=\\frac{\\exp((\\log a_i+g_i)/\\tau)}{\\sum_{j=1}^k\\exp((\\log a_j+g_i)/\\tau)},i=1,\\ldots,k\n",
    "$$\n",
    "\n",
    "- 此时，如果通过 $z = \\arg \\max_i y_i$ 计算离散值，该离散值就近似等价于离散采样 $z \\sim \\mathcal{K}$ 的值。更进一步，采样的结果 $y$ 中自然地引入了对于 $\\alpha$ 的梯度。$\\tau > 0$ 被称作分布的温度参数，通过调整它可以控制生成的 Gumbel-Softmax 分布与离散分布的近似程度：$\\tau$ 越小，生成的分布越趋向于 $\\mathrm{onehot}(\\arg\\max_i(\\log a_i + g_i))$ 的结果；$\\tau$ 越大，生成的分布越趋向于均匀分布。\n",
    "\n",
    "- 接着再定义一些需要用到的工具函数，其中包括让 DDPG 可以适用于离散动作空间的 Gumbel Softmax 采样的相关函数。"
   ]
  },
  {
   "cell_type": "code",
   "execution_count": 3,
   "id": "18834df2",
   "metadata": {},
   "outputs": [],
   "source": [
    "def onehot_from_logits(logits, eps=0.01):\n",
    "    ''' 生成最优动作的独热（one-hot）形式 '''\n",
    "    argmax_acs = (logits == logits.max(1, keepdim=True)[0]).float()\n",
    "    # 生成随机动作,转换成独热形式\n",
    "    rand_acs = torch.autograd.Variable(torch.eye(logits.shape[1])[[\n",
    "        np.random.choice(range(logits.shape[1]), size=logits.shape[0])\n",
    "    ]],\n",
    "                                       requires_grad=False).to(logits.device)\n",
    "    # 通过epsilon-贪婪算法来选择用哪个动作\n",
    "    return torch.stack([\n",
    "        argmax_acs[i] if r > eps else rand_acs[i]\n",
    "        for i, r in enumerate(torch.rand(logits.shape[0]))\n",
    "    ])\n",
    "\n",
    "\n",
    "def sample_gumbel(shape, eps=1e-20, tens_type=torch.FloatTensor):\n",
    "    \"\"\"从Gumbel(0,1)分布中采样\"\"\"\n",
    "    U = torch.autograd.Variable(tens_type(*shape).uniform_(),\n",
    "                                requires_grad=False)\n",
    "    return -torch.log(-torch.log(U + eps) + eps)\n",
    "\n",
    "\n",
    "def gumbel_softmax_sample(logits, temperature):\n",
    "    \"\"\" 从Gumbel-Softmax分布中采样\"\"\"\n",
    "    y = logits + sample_gumbel(logits.shape, tens_type=type(logits.data)).to(\n",
    "        logits.device)\n",
    "    return F.softmax(y / temperature, dim=1)\n",
    "\n",
    "\n",
    "def gumbel_softmax(logits, temperature=1.0):\n",
    "    \"\"\"从Gumbel-Softmax分布中采样,并进行离散化\"\"\"\n",
    "    y = gumbel_softmax_sample(logits, temperature)\n",
    "    y_hard = onehot_from_logits(y)\n",
    "    y = (y_hard.to(logits.device) - y).detach() + y\n",
    "    # 返回一个y_hard的独热量,但是它的梯度是y,我们既能够得到一个与环境交互的离散动作,又可以\n",
    "    # 正确地反传梯度\n",
    "    return y"
   ]
  },
  {
   "cell_type": "markdown",
   "id": "6ecc18f7",
   "metadata": {},
   "source": [
    "- 接着实现我们的单智能体 DDPG。其中包含 Actor 网络与 Critic 网络，以及计算动作的函数，这在第 13 章中的已经介绍过，此处不再赘述。但这里没有更新网络参数的函数，其将会在 MADDPG 类中被实现。"
   ]
  },
  {
   "cell_type": "code",
   "execution_count": 4,
   "id": "7da4d83a",
   "metadata": {},
   "outputs": [],
   "source": [
    "class TwoLayerFC(torch.nn.Module):\n",
    "    def __init__(self, num_in, num_out, hidden_dim):\n",
    "        super().__init__()\n",
    "        self.fc1 = torch.nn.Linear(num_in, hidden_dim)\n",
    "        self.fc2 = torch.nn.Linear(hidden_dim, hidden_dim)\n",
    "        self.fc3 = torch.nn.Linear(hidden_dim, num_out)\n",
    "\n",
    "    def forward(self, x):\n",
    "        x = F.relu(self.fc1(x))\n",
    "        x = F.relu(self.fc2(x))\n",
    "        return self.fc3(x)\n",
    "\n",
    "\n",
    "class DDPG:\n",
    "    ''' DDPG算法 '''\n",
    "    def __init__(self, state_dim, action_dim, critic_input_dim, hidden_dim,\n",
    "                 actor_lr, critic_lr, device):\n",
    "        self.actor = TwoLayerFC(state_dim, action_dim, hidden_dim).to(device)\n",
    "        self.target_actor = TwoLayerFC(state_dim, action_dim,\n",
    "                                       hidden_dim).to(device)\n",
    "        self.critic = TwoLayerFC(critic_input_dim, 1, hidden_dim).to(device)\n",
    "        self.target_critic = TwoLayerFC(critic_input_dim, 1,\n",
    "                                        hidden_dim).to(device)\n",
    "        self.target_critic.load_state_dict(self.critic.state_dict())\n",
    "        self.target_actor.load_state_dict(self.actor.state_dict())\n",
    "        self.actor_optimizer = torch.optim.Adam(self.actor.parameters(),\n",
    "                                                lr=actor_lr)\n",
    "        self.critic_optimizer = torch.optim.Adam(self.critic.parameters(),\n",
    "                                                 lr=critic_lr)\n",
    "\n",
    "    def take_action(self, state, explore=False):\n",
    "        action = self.actor(state)\n",
    "        if explore:\n",
    "            action = gumbel_softmax(action)\n",
    "        else:\n",
    "            action = onehot_from_logits(action)\n",
    "        return action.detach().cpu().numpy()[0]\n",
    "\n",
    "    def soft_update(self, net, target_net, tau):\n",
    "        for param_target, param in zip(target_net.parameters(),\n",
    "                                       net.parameters()):\n",
    "            param_target.data.copy_(param_target.data * (1.0 - tau) +\n",
    "                                    param.data * tau)"
   ]
  },
  {
   "cell_type": "markdown",
   "id": "82aed35d",
   "metadata": {},
   "source": [
    "- 接下来正式实现一个 MADDPG 类，该类对于每个智能体都会维护一个 DDPG 算法。他们的策略更新和价值函数更新使用的是 21.2 节中关于 $J(\\mu_i)$ 和 $\\mathcal{L}(\\omega_i)$ 的公式给出的形式。"
   ]
  },
  {
   "cell_type": "code",
   "execution_count": 5,
   "id": "7c022c23",
   "metadata": {},
   "outputs": [],
   "source": [
    "class MADDPG:\n",
    "    def __init__(self, env, device, actor_lr, critic_lr, hidden_dim,\n",
    "                 state_dims, action_dims, critic_input_dim, gamma, tau):\n",
    "        self.agents = []\n",
    "        for i in range(len(env.agents)):\n",
    "            self.agents.append(\n",
    "                DDPG(state_dims[i], action_dims[i], critic_input_dim,\n",
    "                     hidden_dim, actor_lr, critic_lr, device))\n",
    "        self.gamma = gamma\n",
    "        self.tau = tau\n",
    "        self.critic_criterion = torch.nn.MSELoss()\n",
    "        self.device = device\n",
    "\n",
    "    @property\n",
    "    def policies(self):\n",
    "        return [agt.actor for agt in self.agents]\n",
    "\n",
    "    @property\n",
    "    def target_policies(self):\n",
    "        return [agt.target_actor for agt in self.agents]\n",
    "\n",
    "    def take_action(self, states, explore):\n",
    "        states = [\n",
    "            torch.tensor([states[i]], dtype=torch.float, device=self.device)\n",
    "            for i in range(len(env.agents))\n",
    "        ]\n",
    "        return [\n",
    "            agent.take_action(state, explore)\n",
    "            for agent, state in zip(self.agents, states)\n",
    "        ]\n",
    "\n",
    "    def update(self, sample, i_agent):\n",
    "        obs, act, rew, next_obs, done = sample\n",
    "        cur_agent = self.agents[i_agent]\n",
    "\n",
    "        cur_agent.critic_optimizer.zero_grad()\n",
    "        all_target_act = [\n",
    "            onehot_from_logits(pi(_next_obs))\n",
    "            for pi, _next_obs in zip(self.target_policies, next_obs)\n",
    "        ]\n",
    "        target_critic_input = torch.cat((*next_obs, *all_target_act), dim=1)\n",
    "        target_critic_value = rew[i_agent].view(\n",
    "            -1, 1) + self.gamma * cur_agent.target_critic(\n",
    "                target_critic_input) * (1 - done[i_agent].view(-1, 1))\n",
    "        critic_input = torch.cat((*obs, *act), dim=1)\n",
    "        critic_value = cur_agent.critic(critic_input)\n",
    "        critic_loss = self.critic_criterion(critic_value,\n",
    "                                            target_critic_value.detach())\n",
    "        critic_loss.backward()\n",
    "        cur_agent.critic_optimizer.step()\n",
    "\n",
    "        cur_agent.actor_optimizer.zero_grad()\n",
    "        cur_actor_out = cur_agent.actor(obs[i_agent])\n",
    "        cur_act_vf_in = gumbel_softmax(cur_actor_out)\n",
    "        all_actor_acs = []\n",
    "        for i, (pi, _obs) in enumerate(zip(self.policies, obs)):\n",
    "            if i == i_agent:\n",
    "                all_actor_acs.append(cur_act_vf_in)\n",
    "            else:\n",
    "                all_actor_acs.append(onehot_from_logits(pi(_obs)))\n",
    "        vf_in = torch.cat((*obs, *all_actor_acs), dim=1)\n",
    "        actor_loss = -cur_agent.critic(vf_in).mean()\n",
    "        actor_loss += (cur_actor_out**2).mean() * 1e-3\n",
    "        actor_loss.backward()\n",
    "        cur_agent.actor_optimizer.step()\n",
    "\n",
    "    def update_all_targets(self):\n",
    "        for agt in self.agents:\n",
    "            agt.soft_update(agt.actor, agt.target_actor, self.tau)\n",
    "            agt.soft_update(agt.critic, agt.target_critic, self.tau)"
   ]
  },
  {
   "cell_type": "markdown",
   "id": "a2091f53",
   "metadata": {},
   "source": [
    "- 现在我们来定义一些超参数，创建环境、智能体以及经验回放池并准备训练"
   ]
  },
  {
   "cell_type": "code",
   "execution_count": 6,
   "id": "20f1a88b",
   "metadata": {},
   "outputs": [],
   "source": [
    "num_episodes = 5000\n",
    "episode_length = 25  # 每条序列的最大长度\n",
    "buffer_size = 100000\n",
    "hidden_dim = 64\n",
    "actor_lr = 1e-2\n",
    "critic_lr = 1e-2\n",
    "gamma = 0.95\n",
    "tau = 1e-2\n",
    "batch_size = 1024\n",
    "device = torch.device(\"cuda\" if torch.cuda.is_available() else \"cpu\")\n",
    "update_interval = 100\n",
    "minimal_size = 4000\n",
    "\n",
    "env_id = \"simple_adversary\"\n",
    "env = make_env(env_id)\n",
    "replay_buffer = rl_utils.ReplayBuffer(buffer_size)\n",
    "\n",
    "state_dims = []\n",
    "action_dims = []\n",
    "for action_space in env.action_space:\n",
    "    action_dims.append(action_space.n)\n",
    "for state_space in env.observation_space:\n",
    "    state_dims.append(state_space.shape[0])\n",
    "critic_input_dim = sum(state_dims) + sum(action_dims)\n",
    "\n",
    "maddpg = MADDPG(env, device, actor_lr, critic_lr, hidden_dim, state_dims,\n",
    "                action_dims, critic_input_dim, gamma, tau)"
   ]
  },
  {
   "cell_type": "markdown",
   "id": "a78fffe6",
   "metadata": {},
   "source": [
    "- 接下来实现以下评估策略的方法，之后就可以开始训练了！"
   ]
  },
  {
   "cell_type": "code",
   "execution_count": 7,
   "id": "60816f43",
   "metadata": {},
   "outputs": [
    {
     "name": "stdout",
     "output_type": "stream",
     "text": [
      "Episode: 100, [-115.3109949129832, 0.28294814683110764, 0.28294814683110764]\n"
     ]
    },
    {
     "name": "stderr",
     "output_type": "stream",
     "text": [
      "/home/wxl/xyb/RL-Study/rl_utils.py:17: VisibleDeprecationWarning: Creating an ndarray from ragged nested sequences (which is a list-or-tuple of lists-or-tuples-or ndarrays with different lengths or shapes) is deprecated. If you meant to do this, you must specify 'dtype=object' when creating the ndarray.\n",
      "  return np.array(state), action, reward, np.array(next_state), done\n"
     ]
    },
    {
     "name": "stdout",
     "output_type": "stream",
     "text": [
      "Episode: 200, [-167.33863326713168, 32.23681771273536, 32.23681771273536]\n",
      "Episode: 300, [-174.26980888373356, 20.418871892390687, 20.418871892390687]\n",
      "Episode: 400, [-48.48509071299121, 8.376169308441458, 8.376169308441458]\n",
      "Episode: 500, [-29.246200597706242, 1.380473611786414, 1.380473611786414]\n",
      "Episode: 600, [-13.756227244785117, -4.9478107615498015, -4.9478107615498015]\n",
      "Episode: 700, [-14.070661696678775, -3.0461553582307657, -3.0461553582307657]\n",
      "Episode: 800, [-12.329441444467127, -0.7869439753684717, -0.7869439753684717]\n",
      "Episode: 900, [-11.325316322878587, 5.527426618313961, 5.527426618313961]\n",
      "Episode: 1000, [-12.262539970256933, 6.53449470605392, 6.53449470605392]\n",
      "Episode: 1100, [-10.987686490850384, 6.028539358151215, 6.028539358151215]\n",
      "Episode: 1200, [-10.889623428228504, 7.083947219437028, 7.083947219437028]\n",
      "Episode: 1300, [-12.049863597672369, 8.163775438363617, 8.163775438363617]\n",
      "Episode: 1400, [-8.96572124166262, 6.682233576294329, 6.682233576294329]\n",
      "Episode: 1500, [-8.817769084998787, 6.806977839688827, 6.806977839688827]\n",
      "Episode: 1600, [-8.132850636522697, 5.8204525512668255, 5.8204525512668255]\n",
      "Episode: 1700, [-9.531697516957577, 6.452479792323732, 6.452479792323732]\n",
      "Episode: 1800, [-8.962030848272663, 5.943169332224525, 5.943169332224525]\n",
      "Episode: 1900, [-8.952532722516066, 6.574361812121349, 6.574361812121349]\n",
      "Episode: 2000, [-9.413109279065775, 6.496493882943568, 6.496493882943568]\n",
      "Episode: 2100, [-9.125220752150996, 6.261727419970355, 6.261727419970355]\n",
      "Episode: 2200, [-8.874606730631077, 5.789351579064505, 5.789351579064505]\n",
      "Episode: 2300, [-8.052675892435348, 4.933340887541253, 4.933340887541253]\n",
      "Episode: 2400, [-8.452356095854922, 5.693926116072395, 5.693926116072395]\n",
      "Episode: 2500, [-8.5942183218292, 6.254872254210667, 6.254872254210667]\n",
      "Episode: 2600, [-7.436725890802206, 5.339045427385122, 5.339045427385122]\n",
      "Episode: 2700, [-6.7929985280468, 4.887908595626764, 4.887908595626764]\n",
      "Episode: 2800, [-8.082967021877858, 5.10351189881828, 5.10351189881828]\n",
      "Episode: 2900, [-8.187147979683619, 4.874280493567798, 4.874280493567798]\n",
      "Episode: 3000, [-8.165182400230004, 5.426707976430948, 5.426707976430948]\n",
      "Episode: 3100, [-8.517222339678622, 5.270981642521143, 5.270981642521143]\n",
      "Episode: 3200, [-9.471005677771794, 6.15495023359509, 6.15495023359509]\n",
      "Episode: 3300, [-10.019253489886193, 5.6973407338314725, 5.6973407338314725]\n",
      "Episode: 3400, [-8.872971241183048, 5.1544079377522865, 5.1544079377522865]\n",
      "Episode: 3500, [-8.58040113001845, 5.48994844859409, 5.48994844859409]\n",
      "Episode: 3600, [-9.014246974350366, 5.444156910905038, 5.444156910905038]\n",
      "Episode: 3700, [-8.888849776902177, 5.562983787244101, 5.562983787244101]\n",
      "Episode: 3800, [-8.609460159149405, 5.305074110919743, 5.305074110919743]\n",
      "Episode: 3900, [-8.552679044564856, 4.96089546869798, 4.96089546869798]\n",
      "Episode: 4000, [-9.51871918192504, 6.400214270350241, 6.400214270350241]\n",
      "Episode: 4100, [-9.576729675444268, 6.308249112577977, 6.308249112577977]\n",
      "Episode: 4200, [-10.204389721559947, 5.873555232294707, 5.873555232294707]\n",
      "Episode: 4300, [-8.628910368949295, 5.5668907599572055, 5.5668907599572055]\n",
      "Episode: 4400, [-9.318574784515691, 5.865500182614076, 5.865500182614076]\n",
      "Episode: 4500, [-7.320808613453218, 4.317650833219077, 4.317650833219077]\n",
      "Episode: 4600, [-7.84682035355885, 4.67246923707438, 4.67246923707438]\n",
      "Episode: 4700, [-9.210318232378334, 5.477162033587359, 5.477162033587359]\n",
      "Episode: 4800, [-8.604190467027744, 5.0328624306192635, 5.0328624306192635]\n",
      "Episode: 4900, [-8.209480684684989, 5.09733535742616, 5.09733535742616]\n",
      "Episode: 5000, [-8.861210790763733, 5.9503459509942696, 5.9503459509942696]\n"
     ]
    }
   ],
   "source": [
    "def evaluate(env_id, maddpg, n_episode=10, episode_length=25):\n",
    "    # 对学习的策略进行评估,此时不会进行探索\n",
    "    env = make_env(env_id)\n",
    "    returns = np.zeros(len(env.agents))\n",
    "    for _ in range(n_episode):\n",
    "        obs = env.reset()\n",
    "        for t_i in range(episode_length):\n",
    "            actions = maddpg.take_action(obs, explore=False)\n",
    "            obs, rew, done, info = env.step(actions)\n",
    "            rew = np.array(rew)\n",
    "            returns += rew / n_episode\n",
    "    return returns.tolist()\n",
    "\n",
    "\n",
    "return_list = []  # 记录每一轮的回报（return）\n",
    "total_step = 0\n",
    "for i_episode in range(num_episodes):\n",
    "    state = env.reset()\n",
    "    # ep_returns = np.zeros(len(env.agents))\n",
    "    for e_i in range(episode_length):\n",
    "        actions = maddpg.take_action(state, explore=True)\n",
    "        next_state, reward, done, _ = env.step(actions)\n",
    "        replay_buffer.add(state, actions, reward, next_state, done)\n",
    "        state = next_state\n",
    "\n",
    "        total_step += 1\n",
    "        if replay_buffer.size(\n",
    "        ) >= minimal_size and total_step % update_interval == 0:\n",
    "            sample = replay_buffer.sample(batch_size)\n",
    "\n",
    "            def stack_array(x):\n",
    "                rearranged = [[sub_x[i] for sub_x in x]\n",
    "                              for i in range(len(x[0]))]\n",
    "                return [\n",
    "                    torch.FloatTensor(np.vstack(aa)).to(device)\n",
    "                    for aa in rearranged\n",
    "                ]\n",
    "\n",
    "            sample = [stack_array(x) for x in sample]\n",
    "            for a_i in range(len(env.agents)):\n",
    "                maddpg.update(sample, a_i)\n",
    "            maddpg.update_all_targets()\n",
    "    if (i_episode + 1) % 100 == 0:\n",
    "        ep_returns = evaluate(env_id, maddpg, n_episode=100)\n",
    "        return_list.append(ep_returns)\n",
    "        print(f\"Episode: {i_episode+1}, {ep_returns}\")"
   ]
  },
  {
   "cell_type": "markdown",
   "id": "eec2fbaa",
   "metadata": {},
   "source": [
    "- 训练结束，我们来看看训练效果如何。"
   ]
  },
  {
   "cell_type": "code",
   "execution_count": 8,
   "id": "d4ea4e8e",
   "metadata": {},
   "outputs": [
    {
     "data": {
      "image/png": "[encoded data removed]",
      "text/plain": [
       "<Figure size 432x288 with 1 Axes>"
      ]
     },
     "metadata": {
      "needs_background": "light"
     },
     "output_type": "display_data"
    },
    {
     "data": {
      "image/png": "[encoded data removed]",
      "text/plain": [
       "<Figure size 432x288 with 1 Axes>"
      ]
     },
     "metadata": {
      "needs_background": "light"
     },
     "output_type": "display_data"
    },
    {
     "data": {
      "image/png": "[encoded data removed]",
      "text/plain": [
       "<Figure size 432x288 with 1 Axes>"
      ]
     },
     "metadata": {
      "needs_background": "light"
     },
     "output_type": "display_data"
    }
   ],
   "source": [
    "return_array = np.array(return_list)\n",
    "for i, agent_name in enumerate([\"adversary_0\", \"agent_0\", \"agent_1\"]):\n",
    "    plt.figure()\n",
    "    plt.plot(\n",
    "        np.arange(return_array.shape[0]) * 100,\n",
    "        rl_utils.moving_average(return_array[:, i], 9))\n",
    "    plt.xlabel(\"Episodes\")\n",
    "    plt.ylabel(\"Returns\")\n",
    "    plt.title(f\"{agent_name} by MADDPG\")"
   ]
  },
  {
   "cell_type": "markdown",
   "id": "de0903b1",
   "metadata": {},
   "source": [
    "- 可以看到，正常智能体agent_0和agent_1的回报结果完全一致，这是因为它们的奖励函数完全一样。正常智能体最终保持了正向的回报，说明它们通过合作成功地占领了两个不同的地点，进而让对抗智能体无法知道哪个地点是目标地点。另外，我们也可以发现 MADDPG 的收敛速度和稳定性都比较不错。\n",
    "\n",
    "## 21.4 小结\n",
    "- 本章讲解了多智能体强化学习 CTDE 范式下的经典算法 MADDPG，MADDPG 后续也衍生了不少多智能体强化学习算法。因此，理解 MADDPG 对深入探究多智能体算法非常关键，有兴趣的读者可阅读 MADDPG 原论文加深理解。"
   ]
  }
 ],
 "metadata": {
  "kernelspec": {
   "display_name": "Python 3 (ipykernel)",
   "language": "python",
   "name": "python3"
  },
  "language_info": {
   "codemirror_mode": {
    "name": "ipython",
    "version": 3
   },
   "file_extension": ".py",
   "mimetype": "text/x-python",
   "name": "python",
   "nbconvert_exporter": "python",
   "pygments_lexer": "ipython3",
   "version": "3.7.12"
  }
 },
 "nbformat": 4,
 "nbformat_minor": 5
}
